{
  "nbformat": 4,
  "nbformat_minor": 0,
  "metadata": {
    "colab": {
      "name": "ChatBot.ipynb",
      "provenance": [],
      "collapsed_sections": []
    },
    "kernelspec": {
      "name": "python3",
      "display_name": "Python 3"
    }
  },
  "cells": [
    {
      "cell_type": "code",
      "metadata": {
        "id": "vJUNNzDYvpRw"
      },
      "source": [
        "# Importando os modulos\n",
        "\n",
        "from google.colab import drive\n",
        "import matplotlib.pyplot as plt\n",
        "from tensorflow.keras.models import load_model\n",
        "from tensorflow.keras.models import Sequential\n",
        "from tensorflow.keras.layers import Dense\n",
        "from tensorflow.keras.layers import BatchNormalization\n",
        "from tensorflow.keras.callbacks import EarlyStopping\n",
        "from tensorflow.keras.callbacks import ReduceLROnPlateau\n",
        "from tensorflow.keras.callbacks import ModelCheckpoint\n",
        "from tensorflow.keras.callbacks import TensorBoard\n",
        "from nltk.stem.lancaster import LancasterStemmer\n",
        "from nltk import word_tokenize\n",
        "from numpy.random import shuffle\n",
        "from numpy.random import randint\n",
        "from numpy import array\n",
        "from numpy import arange\n",
        "import datetime\n",
        "from os import path\n",
        "import json"
      ],
      "execution_count": 1,
      "outputs": []
    },
    {
      "cell_type": "code",
      "metadata": {
        "id": "o9CEbSETRa2k",
        "outputId": "77a08e70-479d-4604-a79f-b0d489bcd976",
        "colab": {
          "base_uri": "https://localhost:8080/",
          "height": 72
        }
      },
      "source": [
        "# baixando dependencia do nltk\n",
        "\n",
        "import nltk\n",
        "nltk.download('punkt')"
      ],
      "execution_count": 2,
      "outputs": [
        {
          "output_type": "stream",
          "text": [
            "[nltk_data] Downloading package punkt to /root/nltk_data...\n",
            "[nltk_data]   Unzipping tokenizers/punkt.zip.\n"
          ],
          "name": "stdout"
        },
        {
          "output_type": "execute_result",
          "data": {
            "text/plain": [
              "True"
            ]
          },
          "metadata": {
            "tags": []
          },
          "execution_count": 2
        }
      ]
    },
    {
      "cell_type": "code",
      "metadata": {
        "id": "-oY8_b7LcALH",
        "outputId": "6d250b63-716f-4ef7-bf48-dbcc46825e79",
        "colab": {
          "base_uri": "https://localhost:8080/",
          "height": 35
        }
      },
      "source": [
        "# Montando o Armazenamento do Google Drive\n",
        "drive.mount('/content/drive')"
      ],
      "execution_count": 3,
      "outputs": [
        {
          "output_type": "stream",
          "text": [
            "Mounted at /content/drive\n"
          ],
          "name": "stdout"
        }
      ]
    },
    {
      "cell_type": "code",
      "metadata": {
        "id": "_vXkL21Z7z0e"
      },
      "source": [
        "# Carregando base de dados\n",
        "with open(\"/content/drive/My Drive/base.json\", 'r') as json_file:\n",
        "  data = dict(json.load(json_file))"
      ],
      "execution_count": 4,
      "outputs": []
    },
    {
      "cell_type": "code",
      "metadata": {
        "id": "KbrP7PzWf2OT"
      },
      "source": [
        "# Preprando os dados\n",
        "\n",
        "doc = []\n",
        "words = []\n",
        "target = []\n",
        "\n",
        "stemmer = LancasterStemmer()\n",
        "\n",
        "for key in data.keys():\n",
        "    for r in data[key]['request']:\n",
        "        w = word_tokenize(r)\n",
        "\n",
        "        words.extend(w)\n",
        "        doc.append((w, key))\n",
        "\n",
        "    target.append(key)\n",
        "\n",
        "\n",
        "words = sorted(list(set([stemmer.stem(w.lower()) for w in words if w not in ['?']])))"
      ],
      "execution_count": 5,
      "outputs": []
    },
    {
      "cell_type": "code",
      "metadata": {
        "id": "DC_2MGX-gqgc",
        "outputId": "49537d85-3ab1-49d6-a075-e065b83cfabf",
        "colab": {
          "base_uri": "https://localhost:8080/",
          "height": 74
        }
      },
      "source": [
        "# Exibindo a resultado do processamento \n",
        "\n",
        "print(f\"alvos -> {target}\")\n",
        "print(f\"Previsores-> {words}\")"
      ],
      "execution_count": 6,
      "outputs": [
        {
          "output_type": "stream",
          "text": [
            "alvos -> ['saudacao', 'despedida', 'agradecimento', 'nome', 'idade', 'horario', 'serviços', 'cursos', 'endereço', 'orçamento']\n",
            "Previsores-> ['!', ',', 'a', 'abraço', 'abrem', 'ai', 'ajud', 'ajudou', 'alguem', 'alô', 'ano', 'at', 'atendimento', 'bem', 'boa', 'bom', 'catalago', 'como', 'curso', 'de', 'dia', 'dig', 'diz', 'endereço', 'escritorio', 'est', 'estou', 'eu', 'fav', 'faz', 'fazem', 'faço', 'ficam', 'funcionamento', 'gostar', 'hora', 'horario', 'idad', 'inform', 'informação', 'list', 'localização', 'mai', 'me', 'muito', 'mês', 'noit', 'nom', 'o', 'obrigado', 'oferecem', 'oi', 'ol', 'ond', 'os', 'par', 'pel', 'pod', 'poder', 'por', 'precisando', 'preciso', 'qua', 'qual', 'quanto', 'que', 'querendo', 'semest', 'serviço', 'seu', 'sua', 'tard', 'tchau', 'tem', 'teu', 'treinamento', 'treinameto', 'tudo', 'turm', 'um', 'voc', 'você', 'é']\n"
          ],
          "name": "stdout"
        }
      ]
    },
    {
      "cell_type": "code",
      "metadata": {
        "id": "KCjAwVFesJZs"
      },
      "source": [
        "# Normalizando os valores\n",
        "\n",
        "dataset = []\n",
        "\n",
        "for d in doc:\n",
        "    predictors = []\n",
        "\n",
        "    request = d[0]\n",
        "    request = [stemmer.stem(w.lower()) for w in request]\n",
        "\n",
        "    for w in words:\n",
        "        predictors.append(1) if w in request else predictors.append(0)\n",
        "\n",
        "    _target = [0] * len(target)\n",
        "    _target[target.index(d[1])] = 1\n",
        "\n",
        "    dataset.append([predictors, _target])\n",
        "\n",
        "# Randomizando os valores\n",
        "shuffle(dataset)"
      ],
      "execution_count": 7,
      "outputs": []
    },
    {
      "cell_type": "code",
      "metadata": {
        "id": "ozobLt3swWSF"
      },
      "source": [
        "# Convertando os objetos para array numpy\n",
        "\n",
        "x_train = []\n",
        "y_train = []\n",
        "\n",
        "for p, t in dataset:\n",
        "    x_train.append(p)\n",
        "    y_train.append(t)\n",
        "\n",
        "\n",
        "x_train, y_train = (array(x_train), array(y_train))"
      ],
      "execution_count": 8,
      "outputs": []
    },
    {
      "cell_type": "code",
      "metadata": {
        "id": "LDg4DbYgxnSH",
        "outputId": "384c6b69-7712-4be8-f709-aeeceb9170b2",
        "colab": {
          "base_uri": "https://localhost:8080/",
          "height": 345
        }
      },
      "source": [
        "# Criando o modelo\n",
        "\n",
        "model = Sequential()\n",
        "\n",
        "model.add(Dense(units=16, activation='sigmoid', kernel_initializer='random_uniform', input_dim=x_train.shape[1]))\n",
        "model.add(BatchNormalization())\n",
        "model.add(Dense(units=16, activation='sigmoid', kernel_initializer='random_uniform'))\n",
        "model.add(BatchNormalization())\n",
        "model.add(Dense(units=y_train.shape[1], activation='sigmoid', kernel_initializer='random_uniform'))\n",
        "\n",
        "model.compile(optimizer='adam', loss='binary_crossentropy', metrics=['binary_accuracy'])\n",
        "\n",
        "EarStop = EarlyStopping(monitor='loss', min_delta=1e-10, patience=20, verbose=1)\n",
        "RedPlat = ReduceLROnPlateau(monitor='loss', factor=0.2, patience=10, verbose=1)\n",
        "\n",
        "model.summary()"
      ],
      "execution_count": 9,
      "outputs": [
        {
          "output_type": "stream",
          "text": [
            "Model: \"sequential\"\n",
            "_________________________________________________________________\n",
            "Layer (type)                 Output Shape              Param #   \n",
            "=================================================================\n",
            "dense (Dense)                (None, 16)                1344      \n",
            "_________________________________________________________________\n",
            "batch_normalization (BatchNo (None, 16)                64        \n",
            "_________________________________________________________________\n",
            "dense_1 (Dense)              (None, 16)                272       \n",
            "_________________________________________________________________\n",
            "batch_normalization_1 (Batch (None, 16)                64        \n",
            "_________________________________________________________________\n",
            "dense_2 (Dense)              (None, 10)                170       \n",
            "=================================================================\n",
            "Total params: 1,914\n",
            "Trainable params: 1,850\n",
            "Non-trainable params: 64\n",
            "_________________________________________________________________\n"
          ],
          "name": "stdout"
        }
      ]
    },
    {
      "cell_type": "code",
      "metadata": {
        "id": "FWPVJ80j8FBJ"
      },
      "source": [
        "# Classe que será responsavel por normalizar os elementos de entrada\n",
        "\n",
        "class Parser:\n",
        "\n",
        "    @staticmethod\n",
        "    def __prepare(sentence: str) -> list:\n",
        "        stemmer = LancasterStemmer()\n",
        "\n",
        "        sentence_words = word_tokenize(sentence)\n",
        "        sentence_words = [stemmer.stem(word.lower()) for word in sentence_words]\n",
        "\n",
        "        return sentence_words\n",
        "\n",
        "    @staticmethod\n",
        "    def convert(sentence: str, words: list) -> array:\n",
        "\n",
        "        _sentence: list = Parser.__prepare(sentence)\n",
        "        predictors: list = [0] * len(words)\n",
        "\n",
        "        for s in _sentence:\n",
        "            for i, w in enumerate(words):\n",
        "                if w == s:\n",
        "                    predictors[i] = 1\n",
        "\n",
        "        return array(predictors).reshape(1, -1)"
      ],
      "execution_count": 10,
      "outputs": []
    },
    {
      "cell_type": "code",
      "metadata": {
        "id": "Tvunpc-Qb-_o",
        "outputId": "56f6a95a-46b5-4180-8587-1774270947ce",
        "colab": {
          "base_uri": "https://localhost:8080/",
          "height": 1000
        }
      },
      "source": [
        "# realizando o treinamento do modelo\n",
        "\n",
        "history = model.fit(x_train, y_train, epochs=1000, batch_size=5, callbacks=[EarStop, RedPlat])"
      ],
      "execution_count": 11,
      "outputs": [
        {
          "output_type": "stream",
          "text": [
            "Epoch 1/1000\n",
            "10/10 [==============================] - 0s 2ms/step - loss: 0.6914 - binary_accuracy: 0.5417\n",
            "Epoch 2/1000\n",
            "10/10 [==============================] - 0s 2ms/step - loss: 0.6831 - binary_accuracy: 0.7208\n",
            "Epoch 3/1000\n",
            "10/10 [==============================] - 0s 2ms/step - loss: 0.6753 - binary_accuracy: 0.7667\n",
            "Epoch 4/1000\n",
            "10/10 [==============================] - 0s 2ms/step - loss: 0.6656 - binary_accuracy: 0.7604\n",
            "Epoch 5/1000\n",
            "10/10 [==============================] - 0s 2ms/step - loss: 0.6523 - binary_accuracy: 0.7625\n",
            "Epoch 6/1000\n",
            "10/10 [==============================] - 0s 2ms/step - loss: 0.6403 - binary_accuracy: 0.7667\n",
            "Epoch 7/1000\n",
            "10/10 [==============================] - 0s 2ms/step - loss: 0.6281 - binary_accuracy: 0.7833\n",
            "Epoch 8/1000\n",
            "10/10 [==============================] - 0s 2ms/step - loss: 0.6129 - binary_accuracy: 0.7708\n",
            "Epoch 9/1000\n",
            "10/10 [==============================] - 0s 2ms/step - loss: 0.5965 - binary_accuracy: 0.7833\n",
            "Epoch 10/1000\n",
            "10/10 [==============================] - 0s 2ms/step - loss: 0.5836 - binary_accuracy: 0.7979\n",
            "Epoch 11/1000\n",
            "10/10 [==============================] - 0s 2ms/step - loss: 0.5675 - binary_accuracy: 0.8063\n",
            "Epoch 12/1000\n",
            "10/10 [==============================] - 0s 2ms/step - loss: 0.5509 - binary_accuracy: 0.8292\n",
            "Epoch 13/1000\n",
            "10/10 [==============================] - 0s 2ms/step - loss: 0.5345 - binary_accuracy: 0.8479\n",
            "Epoch 14/1000\n",
            "10/10 [==============================] - 0s 2ms/step - loss: 0.5209 - binary_accuracy: 0.8583\n",
            "Epoch 15/1000\n",
            "10/10 [==============================] - 0s 3ms/step - loss: 0.5017 - binary_accuracy: 0.8833\n",
            "Epoch 16/1000\n",
            "10/10 [==============================] - 0s 2ms/step - loss: 0.4888 - binary_accuracy: 0.9250\n",
            "Epoch 17/1000\n",
            "10/10 [==============================] - 0s 2ms/step - loss: 0.4590 - binary_accuracy: 0.9396\n",
            "Epoch 18/1000\n",
            "10/10 [==============================] - 0s 2ms/step - loss: 0.4414 - binary_accuracy: 0.9500\n",
            "Epoch 19/1000\n",
            "10/10 [==============================] - 0s 2ms/step - loss: 0.4297 - binary_accuracy: 0.9458\n",
            "Epoch 20/1000\n",
            "10/10 [==============================] - 0s 2ms/step - loss: 0.4062 - binary_accuracy: 0.9521\n",
            "Epoch 21/1000\n",
            "10/10 [==============================] - 0s 2ms/step - loss: 0.3834 - binary_accuracy: 0.9563\n",
            "Epoch 22/1000\n",
            "10/10 [==============================] - 0s 2ms/step - loss: 0.3621 - binary_accuracy: 0.9625\n",
            "Epoch 23/1000\n",
            "10/10 [==============================] - 0s 2ms/step - loss: 0.3438 - binary_accuracy: 0.9625\n",
            "Epoch 24/1000\n",
            "10/10 [==============================] - 0s 2ms/step - loss: 0.3293 - binary_accuracy: 0.9667\n",
            "Epoch 25/1000\n",
            "10/10 [==============================] - 0s 2ms/step - loss: 0.3109 - binary_accuracy: 0.9646\n",
            "Epoch 26/1000\n",
            "10/10 [==============================] - 0s 2ms/step - loss: 0.2941 - binary_accuracy: 0.9750\n",
            "Epoch 27/1000\n",
            "10/10 [==============================] - 0s 2ms/step - loss: 0.2780 - binary_accuracy: 0.9750\n",
            "Epoch 28/1000\n",
            "10/10 [==============================] - 0s 2ms/step - loss: 0.2644 - binary_accuracy: 0.9708\n",
            "Epoch 29/1000\n",
            "10/10 [==============================] - 0s 2ms/step - loss: 0.2442 - binary_accuracy: 0.9750\n",
            "Epoch 30/1000\n",
            "10/10 [==============================] - 0s 2ms/step - loss: 0.2372 - binary_accuracy: 0.9708\n",
            "Epoch 31/1000\n",
            "10/10 [==============================] - 0s 2ms/step - loss: 0.2262 - binary_accuracy: 0.9729\n",
            "Epoch 32/1000\n",
            "10/10 [==============================] - 0s 2ms/step - loss: 0.2044 - binary_accuracy: 0.9792\n",
            "Epoch 33/1000\n",
            "10/10 [==============================] - 0s 2ms/step - loss: 0.1953 - binary_accuracy: 0.9792\n",
            "Epoch 34/1000\n",
            "10/10 [==============================] - 0s 2ms/step - loss: 0.1973 - binary_accuracy: 0.9813\n",
            "Epoch 35/1000\n",
            "10/10 [==============================] - 0s 3ms/step - loss: 0.1821 - binary_accuracy: 0.9771\n",
            "Epoch 36/1000\n",
            "10/10 [==============================] - 0s 3ms/step - loss: 0.1739 - binary_accuracy: 0.9854\n",
            "Epoch 37/1000\n",
            "10/10 [==============================] - 0s 3ms/step - loss: 0.1646 - binary_accuracy: 0.9833\n",
            "Epoch 38/1000\n",
            "10/10 [==============================] - 0s 2ms/step - loss: 0.1764 - binary_accuracy: 0.9708\n",
            "Epoch 39/1000\n",
            "10/10 [==============================] - 0s 2ms/step - loss: 0.1513 - binary_accuracy: 0.9771\n",
            "Epoch 40/1000\n",
            "10/10 [==============================] - 0s 2ms/step - loss: 0.1488 - binary_accuracy: 0.9833\n",
            "Epoch 41/1000\n",
            "10/10 [==============================] - 0s 2ms/step - loss: 0.1379 - binary_accuracy: 0.9854\n",
            "Epoch 42/1000\n",
            "10/10 [==============================] - 0s 2ms/step - loss: 0.1421 - binary_accuracy: 0.9792\n",
            "Epoch 43/1000\n",
            "10/10 [==============================] - 0s 2ms/step - loss: 0.1319 - binary_accuracy: 0.9833\n",
            "Epoch 44/1000\n",
            "10/10 [==============================] - 0s 2ms/step - loss: 0.1288 - binary_accuracy: 0.9833\n",
            "Epoch 45/1000\n",
            "10/10 [==============================] - 0s 2ms/step - loss: 0.1195 - binary_accuracy: 0.9833\n",
            "Epoch 46/1000\n",
            "10/10 [==============================] - 0s 2ms/step - loss: 0.1217 - binary_accuracy: 0.9875\n",
            "Epoch 47/1000\n",
            "10/10 [==============================] - 0s 2ms/step - loss: 0.1142 - binary_accuracy: 0.9875\n",
            "Epoch 48/1000\n",
            "10/10 [==============================] - 0s 2ms/step - loss: 0.1058 - binary_accuracy: 0.9875\n",
            "Epoch 49/1000\n",
            "10/10 [==============================] - 0s 2ms/step - loss: 0.1053 - binary_accuracy: 0.9833\n",
            "Epoch 50/1000\n",
            "10/10 [==============================] - 0s 2ms/step - loss: 0.1032 - binary_accuracy: 0.9896\n",
            "Epoch 51/1000\n",
            "10/10 [==============================] - 0s 2ms/step - loss: 0.0987 - binary_accuracy: 0.9875\n",
            "Epoch 52/1000\n",
            "10/10 [==============================] - 0s 2ms/step - loss: 0.0933 - binary_accuracy: 0.9833\n",
            "Epoch 53/1000\n",
            "10/10 [==============================] - 0s 2ms/step - loss: 0.0888 - binary_accuracy: 0.9917\n",
            "Epoch 54/1000\n",
            "10/10 [==============================] - 0s 2ms/step - loss: 0.0831 - binary_accuracy: 0.9875\n",
            "Epoch 55/1000\n",
            "10/10 [==============================] - 0s 2ms/step - loss: 0.0866 - binary_accuracy: 0.9896\n",
            "Epoch 56/1000\n",
            "10/10 [==============================] - 0s 2ms/step - loss: 0.0804 - binary_accuracy: 0.9917\n",
            "Epoch 57/1000\n",
            "10/10 [==============================] - 0s 2ms/step - loss: 0.0837 - binary_accuracy: 0.9854\n",
            "Epoch 58/1000\n",
            "10/10 [==============================] - 0s 2ms/step - loss: 0.0839 - binary_accuracy: 0.9979\n",
            "Epoch 59/1000\n",
            "10/10 [==============================] - 0s 2ms/step - loss: 0.0860 - binary_accuracy: 0.9875\n",
            "Epoch 60/1000\n",
            "10/10 [==============================] - 0s 2ms/step - loss: 0.0744 - binary_accuracy: 0.9896\n",
            "Epoch 61/1000\n",
            "10/10 [==============================] - 0s 2ms/step - loss: 0.0741 - binary_accuracy: 0.9896\n",
            "Epoch 62/1000\n",
            "10/10 [==============================] - 0s 2ms/step - loss: 0.0677 - binary_accuracy: 0.9938\n",
            "Epoch 63/1000\n",
            "10/10 [==============================] - 0s 2ms/step - loss: 0.0669 - binary_accuracy: 1.0000\n",
            "Epoch 64/1000\n",
            "10/10 [==============================] - 0s 2ms/step - loss: 0.0629 - binary_accuracy: 0.9938\n",
            "Epoch 65/1000\n",
            "10/10 [==============================] - 0s 2ms/step - loss: 0.0697 - binary_accuracy: 0.9875\n",
            "Epoch 66/1000\n",
            "10/10 [==============================] - 0s 2ms/step - loss: 0.0613 - binary_accuracy: 0.9958\n",
            "Epoch 67/1000\n",
            "10/10 [==============================] - 0s 3ms/step - loss: 0.0622 - binary_accuracy: 0.9938\n",
            "Epoch 68/1000\n",
            "10/10 [==============================] - 0s 2ms/step - loss: 0.0763 - binary_accuracy: 0.9875\n",
            "Epoch 69/1000\n",
            "10/10 [==============================] - 0s 2ms/step - loss: 0.0565 - binary_accuracy: 0.9938\n",
            "Epoch 70/1000\n",
            "10/10 [==============================] - 0s 2ms/step - loss: 0.0604 - binary_accuracy: 0.9917\n",
            "Epoch 71/1000\n",
            "10/10 [==============================] - 0s 2ms/step - loss: 0.0592 - binary_accuracy: 0.9958\n",
            "Epoch 72/1000\n",
            "10/10 [==============================] - 0s 2ms/step - loss: 0.0542 - binary_accuracy: 0.9958\n",
            "Epoch 73/1000\n",
            "10/10 [==============================] - 0s 2ms/step - loss: 0.0540 - binary_accuracy: 0.9938\n",
            "Epoch 74/1000\n",
            "10/10 [==============================] - 0s 2ms/step - loss: 0.0528 - binary_accuracy: 0.9979\n",
            "Epoch 75/1000\n",
            "10/10 [==============================] - 0s 2ms/step - loss: 0.0542 - binary_accuracy: 0.9958\n",
            "Epoch 76/1000\n",
            "10/10 [==============================] - 0s 2ms/step - loss: 0.0412 - binary_accuracy: 1.0000\n",
            "Epoch 77/1000\n",
            "10/10 [==============================] - 0s 2ms/step - loss: 0.0516 - binary_accuracy: 0.9938\n",
            "Epoch 78/1000\n",
            "10/10 [==============================] - 0s 2ms/step - loss: 0.0536 - binary_accuracy: 0.9917\n",
            "Epoch 79/1000\n",
            "10/10 [==============================] - 0s 2ms/step - loss: 0.0484 - binary_accuracy: 0.9958\n",
            "Epoch 80/1000\n",
            "10/10 [==============================] - 0s 2ms/step - loss: 0.0449 - binary_accuracy: 0.9958\n",
            "Epoch 81/1000\n",
            "10/10 [==============================] - 0s 2ms/step - loss: 0.0530 - binary_accuracy: 0.9896\n",
            "Epoch 82/1000\n",
            "10/10 [==============================] - 0s 2ms/step - loss: 0.0473 - binary_accuracy: 0.9917\n",
            "Epoch 83/1000\n",
            "10/10 [==============================] - 0s 2ms/step - loss: 0.0436 - binary_accuracy: 1.0000\n",
            "Epoch 84/1000\n",
            "10/10 [==============================] - 0s 2ms/step - loss: 0.0428 - binary_accuracy: 0.9958\n",
            "Epoch 85/1000\n",
            "10/10 [==============================] - 0s 2ms/step - loss: 0.0425 - binary_accuracy: 0.9938\n",
            "Epoch 86/1000\n",
            "10/10 [==============================] - 0s 2ms/step - loss: 0.0400 - binary_accuracy: 1.0000\n",
            "Epoch 87/1000\n",
            "10/10 [==============================] - 0s 2ms/step - loss: 0.0401 - binary_accuracy: 0.9979\n",
            "Epoch 88/1000\n",
            "10/10 [==============================] - 0s 2ms/step - loss: 0.0410 - binary_accuracy: 0.9958\n",
            "Epoch 89/1000\n",
            "10/10 [==============================] - 0s 2ms/step - loss: 0.0396 - binary_accuracy: 1.0000\n",
            "Epoch 90/1000\n",
            "10/10 [==============================] - 0s 2ms/step - loss: 0.0518 - binary_accuracy: 0.9875\n",
            "Epoch 91/1000\n",
            "10/10 [==============================] - 0s 3ms/step - loss: 0.0389 - binary_accuracy: 0.9979\n",
            "Epoch 92/1000\n",
            "10/10 [==============================] - 0s 2ms/step - loss: 0.0366 - binary_accuracy: 1.0000\n",
            "Epoch 93/1000\n",
            "10/10 [==============================] - 0s 2ms/step - loss: 0.0388 - binary_accuracy: 0.9938\n",
            "Epoch 94/1000\n",
            "10/10 [==============================] - 0s 2ms/step - loss: 0.0386 - binary_accuracy: 0.9938\n",
            "Epoch 95/1000\n",
            "10/10 [==============================] - 0s 2ms/step - loss: 0.0341 - binary_accuracy: 1.0000\n",
            "Epoch 96/1000\n",
            "10/10 [==============================] - 0s 2ms/step - loss: 0.0451 - binary_accuracy: 0.9958\n",
            "Epoch 97/1000\n",
            "10/10 [==============================] - 0s 2ms/step - loss: 0.0363 - binary_accuracy: 0.9958\n",
            "Epoch 98/1000\n",
            "10/10 [==============================] - 0s 3ms/step - loss: 0.0312 - binary_accuracy: 1.0000\n",
            "Epoch 99/1000\n",
            "10/10 [==============================] - 0s 2ms/step - loss: 0.0349 - binary_accuracy: 0.9958\n",
            "Epoch 100/1000\n",
            "10/10 [==============================] - 0s 2ms/step - loss: 0.0316 - binary_accuracy: 0.9958\n",
            "Epoch 101/1000\n",
            "10/10 [==============================] - 0s 2ms/step - loss: 0.0307 - binary_accuracy: 1.0000\n",
            "Epoch 102/1000\n",
            "10/10 [==============================] - 0s 2ms/step - loss: 0.0294 - binary_accuracy: 0.9979\n",
            "Epoch 103/1000\n",
            "10/10 [==============================] - 0s 2ms/step - loss: 0.0390 - binary_accuracy: 0.9896\n",
            "Epoch 104/1000\n",
            "10/10 [==============================] - 0s 2ms/step - loss: 0.0315 - binary_accuracy: 0.9979\n",
            "Epoch 105/1000\n",
            "10/10 [==============================] - 0s 2ms/step - loss: 0.0287 - binary_accuracy: 0.9958\n",
            "Epoch 106/1000\n",
            "10/10 [==============================] - 0s 3ms/step - loss: 0.0278 - binary_accuracy: 0.9979\n",
            "Epoch 107/1000\n",
            "10/10 [==============================] - 0s 2ms/step - loss: 0.0245 - binary_accuracy: 1.0000\n",
            "Epoch 108/1000\n",
            "10/10 [==============================] - 0s 2ms/step - loss: 0.0309 - binary_accuracy: 0.9979\n",
            "Epoch 109/1000\n",
            "10/10 [==============================] - 0s 2ms/step - loss: 0.0368 - binary_accuracy: 0.9917\n",
            "Epoch 110/1000\n",
            "10/10 [==============================] - 0s 2ms/step - loss: 0.0267 - binary_accuracy: 0.9958\n",
            "Epoch 111/1000\n",
            "10/10 [==============================] - 0s 2ms/step - loss: 0.0221 - binary_accuracy: 1.0000\n",
            "Epoch 112/1000\n",
            "10/10 [==============================] - 0s 2ms/step - loss: 0.0303 - binary_accuracy: 0.9979\n",
            "Epoch 113/1000\n",
            "10/10 [==============================] - 0s 1ms/step - loss: 0.0243 - binary_accuracy: 0.9979\n",
            "Epoch 114/1000\n",
            "10/10 [==============================] - 0s 2ms/step - loss: 0.0258 - binary_accuracy: 0.9979\n",
            "Epoch 115/1000\n",
            "10/10 [==============================] - 0s 2ms/step - loss: 0.0254 - binary_accuracy: 0.9979\n",
            "Epoch 116/1000\n",
            "10/10 [==============================] - 0s 2ms/step - loss: 0.0260 - binary_accuracy: 0.9958\n",
            "Epoch 117/1000\n",
            "10/10 [==============================] - 0s 2ms/step - loss: 0.0284 - binary_accuracy: 0.9979\n",
            "Epoch 118/1000\n",
            "10/10 [==============================] - 0s 2ms/step - loss: 0.0359 - binary_accuracy: 0.9938\n",
            "Epoch 119/1000\n",
            "10/10 [==============================] - 0s 2ms/step - loss: 0.0421 - binary_accuracy: 0.9938\n",
            "Epoch 120/1000\n",
            "10/10 [==============================] - 0s 2ms/step - loss: 0.0219 - binary_accuracy: 1.0000\n",
            "Epoch 121/1000\n",
            "10/10 [==============================] - 0s 2ms/step - loss: 0.0311 - binary_accuracy: 0.9979\n",
            "Epoch 122/1000\n",
            "10/10 [==============================] - 0s 2ms/step - loss: 0.0189 - binary_accuracy: 1.0000\n",
            "Epoch 123/1000\n",
            "10/10 [==============================] - 0s 2ms/step - loss: 0.0203 - binary_accuracy: 1.0000\n",
            "Epoch 124/1000\n",
            "10/10 [==============================] - 0s 2ms/step - loss: 0.0221 - binary_accuracy: 0.9958\n",
            "Epoch 125/1000\n",
            "10/10 [==============================] - 0s 2ms/step - loss: 0.0169 - binary_accuracy: 1.0000\n",
            "Epoch 126/1000\n",
            "10/10 [==============================] - 0s 2ms/step - loss: 0.0358 - binary_accuracy: 0.9917\n",
            "Epoch 127/1000\n",
            "10/10 [==============================] - 0s 3ms/step - loss: 0.0179 - binary_accuracy: 1.0000\n",
            "Epoch 128/1000\n",
            "10/10 [==============================] - 0s 2ms/step - loss: 0.0261 - binary_accuracy: 0.9979\n",
            "Epoch 129/1000\n",
            "10/10 [==============================] - 0s 2ms/step - loss: 0.0214 - binary_accuracy: 1.0000\n",
            "Epoch 130/1000\n",
            "10/10 [==============================] - 0s 2ms/step - loss: 0.0172 - binary_accuracy: 1.0000\n",
            "Epoch 131/1000\n",
            "10/10 [==============================] - 0s 2ms/step - loss: 0.0167 - binary_accuracy: 1.0000\n",
            "Epoch 132/1000\n",
            "10/10 [==============================] - 0s 2ms/step - loss: 0.0221 - binary_accuracy: 0.9958\n",
            "Epoch 133/1000\n",
            "10/10 [==============================] - 0s 2ms/step - loss: 0.0240 - binary_accuracy: 0.9979\n",
            "Epoch 134/1000\n",
            "10/10 [==============================] - 0s 2ms/step - loss: 0.0172 - binary_accuracy: 1.0000\n",
            "Epoch 135/1000\n",
            "10/10 [==============================] - 0s 2ms/step - loss: 0.0264 - binary_accuracy: 0.9979\n",
            "Epoch 136/1000\n",
            "10/10 [==============================] - 0s 2ms/step - loss: 0.0181 - binary_accuracy: 1.0000\n",
            "Epoch 137/1000\n",
            "10/10 [==============================] - 0s 2ms/step - loss: 0.0153 - binary_accuracy: 1.0000\n",
            "Epoch 138/1000\n",
            "10/10 [==============================] - 0s 2ms/step - loss: 0.0223 - binary_accuracy: 0.9979\n",
            "Epoch 139/1000\n",
            "10/10 [==============================] - 0s 2ms/step - loss: 0.0246 - binary_accuracy: 0.9979\n",
            "Epoch 140/1000\n",
            "10/10 [==============================] - 0s 2ms/step - loss: 0.0240 - binary_accuracy: 0.9979\n",
            "Epoch 141/1000\n",
            "10/10 [==============================] - 0s 2ms/step - loss: 0.0243 - binary_accuracy: 0.9958\n",
            "Epoch 142/1000\n",
            "10/10 [==============================] - 0s 3ms/step - loss: 0.0298 - binary_accuracy: 0.9958\n",
            "Epoch 143/1000\n",
            "10/10 [==============================] - 0s 3ms/step - loss: 0.0177 - binary_accuracy: 0.9979\n",
            "Epoch 144/1000\n",
            "10/10 [==============================] - 0s 2ms/step - loss: 0.0243 - binary_accuracy: 1.0000\n",
            "Epoch 145/1000\n",
            "10/10 [==============================] - 0s 2ms/step - loss: 0.0198 - binary_accuracy: 1.0000\n",
            "Epoch 146/1000\n",
            "10/10 [==============================] - 0s 3ms/step - loss: 0.0246 - binary_accuracy: 0.9958\n",
            "Epoch 147/1000\n",
            " 1/10 [==>...........................] - ETA: 0s - loss: 0.0197 - binary_accuracy: 1.0000\n",
            "Epoch 00147: ReduceLROnPlateau reducing learning rate to 0.00020000000949949026.\n",
            "10/10 [==============================] - 0s 2ms/step - loss: 0.0214 - binary_accuracy: 0.9979\n",
            "Epoch 148/1000\n",
            "10/10 [==============================] - 0s 2ms/step - loss: 0.0159 - binary_accuracy: 1.0000\n",
            "Epoch 149/1000\n",
            "10/10 [==============================] - 0s 3ms/step - loss: 0.0549 - binary_accuracy: 0.9875\n",
            "Epoch 150/1000\n",
            "10/10 [==============================] - 0s 2ms/step - loss: 0.0185 - binary_accuracy: 0.9958\n",
            "Epoch 151/1000\n",
            "10/10 [==============================] - 0s 2ms/step - loss: 0.0127 - binary_accuracy: 1.0000\n",
            "Epoch 152/1000\n",
            "10/10 [==============================] - 0s 2ms/step - loss: 0.0155 - binary_accuracy: 0.9979\n",
            "Epoch 153/1000\n",
            "10/10 [==============================] - 0s 2ms/step - loss: 0.0291 - binary_accuracy: 0.9938\n",
            "Epoch 154/1000\n",
            "10/10 [==============================] - 0s 2ms/step - loss: 0.0189 - binary_accuracy: 0.9958\n",
            "Epoch 155/1000\n",
            "10/10 [==============================] - 0s 2ms/step - loss: 0.0187 - binary_accuracy: 0.9979\n",
            "Epoch 156/1000\n",
            "10/10 [==============================] - 0s 3ms/step - loss: 0.0124 - binary_accuracy: 1.0000\n",
            "Epoch 157/1000\n",
            "10/10 [==============================] - 0s 2ms/step - loss: 0.0235 - binary_accuracy: 0.9938\n",
            "Epoch 158/1000\n",
            "10/10 [==============================] - 0s 2ms/step - loss: 0.0238 - binary_accuracy: 0.9938\n",
            "Epoch 159/1000\n",
            "10/10 [==============================] - 0s 2ms/step - loss: 0.0148 - binary_accuracy: 1.0000\n",
            "Epoch 160/1000\n",
            "10/10 [==============================] - 0s 2ms/step - loss: 0.0145 - binary_accuracy: 1.0000\n",
            "Epoch 161/1000\n",
            "10/10 [==============================] - 0s 2ms/step - loss: 0.0162 - binary_accuracy: 0.9958\n",
            "Epoch 162/1000\n",
            "10/10 [==============================] - 0s 2ms/step - loss: 0.0154 - binary_accuracy: 1.0000\n",
            "Epoch 163/1000\n",
            "10/10 [==============================] - 0s 2ms/step - loss: 0.0146 - binary_accuracy: 1.0000\n",
            "Epoch 164/1000\n",
            "10/10 [==============================] - 0s 2ms/step - loss: 0.0138 - binary_accuracy: 1.0000\n",
            "Epoch 165/1000\n",
            "10/10 [==============================] - 0s 2ms/step - loss: 0.0176 - binary_accuracy: 0.9979\n",
            "Epoch 166/1000\n",
            " 1/10 [==>...........................] - ETA: 0s - loss: 0.0201 - binary_accuracy: 1.0000\n",
            "Epoch 00166: ReduceLROnPlateau reducing learning rate to 4.0000001899898055e-05.\n",
            "10/10 [==============================] - 0s 2ms/step - loss: 0.0178 - binary_accuracy: 1.0000\n",
            "Epoch 167/1000\n",
            "10/10 [==============================] - 0s 2ms/step - loss: 0.0215 - binary_accuracy: 0.9979\n",
            "Epoch 168/1000\n",
            "10/10 [==============================] - 0s 2ms/step - loss: 0.0197 - binary_accuracy: 0.9979\n",
            "Epoch 169/1000\n",
            "10/10 [==============================] - 0s 2ms/step - loss: 0.0182 - binary_accuracy: 0.9958\n",
            "Epoch 170/1000\n",
            "10/10 [==============================] - 0s 2ms/step - loss: 0.0125 - binary_accuracy: 1.0000\n",
            "Epoch 171/1000\n",
            "10/10 [==============================] - 0s 2ms/step - loss: 0.0145 - binary_accuracy: 1.0000\n",
            "Epoch 172/1000\n",
            "10/10 [==============================] - 0s 2ms/step - loss: 0.0202 - binary_accuracy: 0.9979\n",
            "Epoch 173/1000\n",
            "10/10 [==============================] - 0s 3ms/step - loss: 0.0160 - binary_accuracy: 1.0000\n",
            "Epoch 174/1000\n",
            "10/10 [==============================] - 0s 2ms/step - loss: 0.0175 - binary_accuracy: 0.9958\n",
            "Epoch 175/1000\n",
            "10/10 [==============================] - 0s 2ms/step - loss: 0.0185 - binary_accuracy: 0.9979\n",
            "Epoch 176/1000\n",
            " 1/10 [==>...........................] - ETA: 0s - loss: 0.0209 - binary_accuracy: 1.0000\n",
            "Epoch 00176: ReduceLROnPlateau reducing learning rate to 8.000000525498762e-06.\n",
            "10/10 [==============================] - 0s 2ms/step - loss: 0.0154 - binary_accuracy: 1.0000\n",
            "Epoch 00176: early stopping\n"
          ],
          "name": "stdout"
        }
      ]
    },
    {
      "cell_type": "code",
      "metadata": {
        "id": "bXI4V2AmzmSQ"
      },
      "source": [
        "# Recuperando dados de treinamento\n",
        "\n",
        "train_loss = history.history['loss']\n",
        "train_steps = arange(len(history.history['loss'])) "
      ],
      "execution_count": 12,
      "outputs": []
    },
    {
      "cell_type": "code",
      "metadata": {
        "id": "orA2st2Y9WPW",
        "outputId": "d8fcafdc-1ca6-43ac-a3c0-aa0ca40a9d71",
        "colab": {
          "base_uri": "https://localhost:8080/",
          "height": 460
        }
      },
      "source": [
        "# Gerando grafico\n",
        "plt.figure(figsize=(20, 8))\n",
        "\n",
        "plt.plot(train_steps, train_loss, 'r--', label='Erro no treinamento por Epocas', linewidth=4)\n",
        "plt.title('TAXA DE ERRO X EPOCAS')\n",
        "plt.xlabel('EPOCAS')\n",
        "plt.ylabel('TAXA DE ERRO')\n",
        "plt.legend(loc='upper right')\n",
        "plt.show()"
      ],
      "execution_count": 13,
      "outputs": [
        {
          "output_type": "display_data",
          "data": {
            "image/png": "[encoded data removed]",
            "text/plain": [
              "<Figure size 1440x576 with 1 Axes>"
            ]
          },
          "metadata": {
            "tags": [],
            "needs_background": "light"
          }
        }
      ]
    },
    {
      "cell_type": "code",
      "metadata": {
        "id": "b6AzWw8C_Bw2"
      },
      "source": [
        "# Função que será responsavel por traduzir a resposta do modelo\n",
        "\n",
        "def talk(text):\n",
        "  index = -1\n",
        "\n",
        "  request = Parser.convert(text, words)\n",
        "  resp = model.predict(request).round(0).astype('int')\n",
        "\n",
        "  print(f\"{text} -> {resp[0]}\")\n",
        "  if True in (resp == 1):\n",
        "      index = resp.argmax()\n",
        "\n",
        "  if index >= 0:\n",
        "    w = data[target[index]]['response']\n",
        "    w = w[randint(0, len(w))]\n",
        "\n",
        "    print(w + \"\\n\")\n",
        "  else:\n",
        "    print(\"Não consegui entender ':(\\n\")\n"
      ],
      "execution_count": 14,
      "outputs": []
    },
    {
      "cell_type": "code",
      "metadata": {
        "id": "4W4COT3e_wOn",
        "outputId": "d07bff99-0ee7-4d3a-f635-32497dcd09ef",
        "colab": {
          "base_uri": "https://localhost:8080/",
          "height": 365
        }
      },
      "source": [
        "# Testando o modelo\n",
        "talk(\"ola\")\n",
        "talk(\"que horas vocês abrem?\")\n",
        "talk(\"o que vocês fazem\")\n",
        "talk(\"Quero um café\")\n",
        "talk(\"ok, obrigado!\")\n",
        "talk(\"tchau\")"
      ],
      "execution_count": 17,
      "outputs": [
        {
          "output_type": "stream",
          "text": [
            "ola -> [1 0 0 0 0 0 0 0 0 0]\n",
            "sim, posso te ajudar em algo?\n",
            "\n",
            "que horas vocês abrem? -> [0 0 0 0 0 1 0 0 0 0]\n",
            "Nosso horário de funcionamento é de segunda a sexta das 09:00 às 18:00\n",
            "\n",
            "o que vocês fazem -> [0 0 0 0 0 0 1 0 0 0]\n",
            "Oferecemos trainamentos e certificações em TI, nossa principal missão é agregar valor ao mercado profissional de Minas Gerais através da qualificação nas principais certificações nacionais e internacionais no setor de TI.\n",
            "\n",
            "Quero um café -> [0 0 0 0 0 0 0 0 0 0]\n",
            "Não consegui entender ':(\n",
            "\n",
            "ok, obrigado! -> [0 0 1 0 0 0 0 0 0 0]\n",
            "Fico feliz em ajudar!\n",
            "\n",
            "tchau -> [0 1 0 0 0 0 0 0 0 0]\n",
            "Tenha um otimo dia!\n",
            "\n"
          ],
          "name": "stdout"
        }
      ]
    }
  ]
}